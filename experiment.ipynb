{
 "cells": [
  {
   "cell_type": "code",
   "execution_count": 9,
   "metadata": {},
   "outputs": [],
   "source": [
    "import openai"
   ]
  },
  {
   "cell_type": "code",
   "execution_count": 10,
   "metadata": {},
   "outputs": [],
   "source": [
    "client = openai.Client()"
   ]
  },
  {
   "cell_type": "code",
   "execution_count": 33,
   "metadata": {},
   "outputs": [
    {
     "name": "stdout",
     "output_type": "stream",
     "text": [
      "- The study lacks a clear description of the randomization process for assigning participants to the experimental and control groups, which could introduce selection bias.\n",
      "- The study does not mention blinding procedures, which could lead to bias in the assessment of outcomes.\n",
      "- The sample size calculation is not provided, making it unclear if the study had enough power to detect significant differences.\n",
      "- The study does not mention any control for potential confounding variables that could influence the relationship between Yoga nidra practice and ESR levels.\n",
      "- The statistical analysis only reports t-values and significance levels without providing confidence intervals or effect sizes, limiting the interpretation of the results.\n",
      "- The study does not mention any adjustments for multiple comparisons, which could inflate the risk of Type I errors.\n",
      "\n",
      "Score: 3.5\n"
     ]
    }
   ],
   "source": [
    "instructions = '''\n",
    "You are an assistant that helps screening scientific papers for errors in statistics.\n",
    "Answer with a list of bullet points explaining the issues (if any are present).\n",
    "After that, summarize your analysis with \"Score: \" and a number from 0 to 10,\n",
    "reflecting the quality of the statistical work. Be strict but reward good practices\n",
    "'''.replace('\\n', '')\n",
    "\n",
    "bad = '''\n",
    "Material and methods\n",
    "Eighty samples (40 males, 40 females) of ranged\n",
    "20-30 yrs from Dev Sanskriti Vishwavidyalaya of PG\n",
    "360 INDIAN J TRADITIONAL KNOWLEDGE VOL 11, NO. 2, APRIL 2012\n",
    "Yoga classes selected for the practice of yoga nidra\n",
    "assigned to the experimental group. One of the groups\n",
    "of 30 students (15males, 15 females) of same age\n",
    "group and same class also considered as control group.\n",
    "Both the group experimental and control group were\n",
    "from PG Yoga classes; so all had been practicing the\n",
    "set of Asanas, Pranayamas and Shatkarmas regularly\n",
    "(except Sunday and holidays). For the experimental\n",
    "group it was the only difference that they were\n",
    "practicing Yoga nidra for half an hour daily (except\n",
    "Sunday and holidays) additionally. Although there is\n",
    "an enormous body of literature concerning the ESR, an\n",
    "elevated value remains a nonspecific finding. Before\n",
    "starting the practice of Yoga nidra both the group went\n",
    "under through the most satisfactory method of\n",
    "performing the test introduced15\n",
    ".\n",
    "Results\n",
    "Graphical presentation of the data exhibits in two\n",
    "Hypothesis:\n",
    "Hypothesis 1: There is a significant relationship\n",
    "between the practice of Yoga nidra and ESR of male\n",
    "subjects. Mean and standard deviation of the\n",
    "experimental and control group for ESR level in male\n",
    "subjects are given in Table 1 and Fig. 1.\n",
    "It is observed that there is a positive change in the\n",
    "level of ESR between both the groups. The significant\n",
    "level for observing the t value is 0.01and it shows the\n",
    "significant change in ESR level as t value is 5.06.\n",
    "Hypothesis 2: There is a significant relationship\n",
    "between the practice of Yoga nidra and ESR of\n",
    "female subjects. Mean and standard deviation of the\n",
    "experimental and control group for ESR level of\n",
    "female are given in Table 2.\n",
    "It is observed that there is a positive change in the\n",
    "level of ESR between both the groups. The significant\n",
    "level for observing the t value is 0.01and it shows the\n",
    "significant change in ESR level as t value is 2.82.\n",
    "'''\n",
    "\n",
    "good = '''\n",
    "In this meta‐analysis we searched the following databases: PubMed, Cochrane, Scopus, and Google Scholar. The studies were included if they were placebo‐controlled trials in design and reported SSRIs’ effects on poststroke depression, anxiety, disability, dependence, motor abilities, and cognitive functions. The quality of the included studies was assessed using the revised Cochrane risk‐of‐bias tool for randomized trials. The search yielded 44 articles that included 16 164 patients, and about half of the participants were treated with SSRIs. Our results showed that SSRIs had a significant effect on preventing depression (weighted mean difference [WMD], −7.05 [95% CI, −11.78 to −2.31]), treating depression according to the Hamilton Rating Scale for Depression score (WMD, −1.45 [95% CI, −2.77 to −0.14]), anxiety (relative risk, 0.23 [95% CI, 0.09–0.61]), dependence (WMD, 8.86 [95% CI, 1.23–16.48]), motor abilities according to National Institutes of Health Stroke Scale score (WMD, −0.79 [95% CI, −1.42 to −0.15]), and cognitive functions (WMD, 1.00 [95% CI, 0.12–1.89]). On the other hand, no significant effect of SSRIs on disability was observed. Additionally, we found that treating with SSRIs increased the risk of seizures (relative risk, 1.44 [95% CI, 1.13–1.83]), whereas there was no difference in the incidence of gastrointestinal symptoms or bleeding between SSRIs and a placebo.\n",
    "\n",
    "Conclusions\n",
    "Our study showed that SSRIs are effective in preventing and treating depression, and improving anxiety, motor function, cognitive function, and dependence in patients after stroke. These benefits were only reproducible with the citalopram subanalysis but not fluoxetine. Further well‐conducted placebo‐controlled trials are needed to investigate the safety and efficacy of citalopram among patients after stroke.\n",
    "'''\n",
    "\n",
    "res = client.chat.completions.create(\n",
    "    model='gpt-3.5-turbo',\n",
    "    messages=[\n",
    "        {'role':'system','content':instructions},\n",
    "        {'role':'user', 'content':bad},\n",
    "    ],\n",
    "    max_tokens=1000,\n",
    "    temperature=0\n",
    ")\n",
    "print(res.choices[0].message.content)"
   ]
  },
  {
   "cell_type": "code",
   "execution_count": 1,
   "metadata": {},
   "outputs": [
    {
     "name": "stdout",
     "output_type": "stream",
     "text": [
      "{'header': {'type': 'esearch', 'version': '0.3'}, 'esearchresult': {'count': '2', 'retmax': '2', 'retstart': '0', 'querykey': '1', 'webenv': 'MCID_662548e05c57620c5f7bc467', 'idlist': ['35730636', '34780067'], 'translationset': [{'from': \"'Safety\", 'to': '\"safety\"[MeSH Terms] OR \"safety\"[All Fields] OR \"safeties\"[All Fields]'}, {'from': 'Efficacy', 'to': '\"efficacies\"[All Fields] OR \"efficacious\"[All Fields] OR \"efficaciously\"[All Fields] OR \"efficaciousness\"[All Fields] OR \"efficacy\"[All Fields]'}, {'from': 'SSRIs', 'to': '\"selective serotonin reuptake inhibitors\"[Pharmacological Action] OR \"selective serotonin reuptake inhibitors\"[MeSH Terms] OR (\"selective\"[All Fields] AND \"serotonin\"[All Fields] AND \"reuptake\"[All Fields] AND \"inhibitors\"[All Fields]) OR \"selective serotonin reuptake inhibitors\"[All Fields] OR \"ssris\"[All Fields] OR \"ssri\\'s\"[All Fields]'}, {'from': 'Improving', 'to': '\"improve\"[All Fields] OR \"improved\"[All Fields] OR \"improvement\"[All Fields] OR \"improvements\"[All Fields] OR \"improves\"[All Fields] OR \"improving\"[All Fields] OR \"improvment\"[All Fields]'}, {'from': 'Recovery:', 'to': '\"recoveries\"[All Fields] OR \"recovery\"[All Fields]'}, {'from': 'Systematic Review', 'to': '\"systematic review\"[Publication Type] OR \"systematic reviews as topic\"[MeSH Terms] OR \"systematic review\"[All Fields]'}, {'from': \"Meta-Analysis'\", 'to': '\"meta-analysis\"[Publication Type] OR \"meta-analysis as topic\"[MeSH Terms] OR \"meta-analysis\"[All Fields]'}], 'querytranslation': '(\"safety\"[MeSH Terms] OR \"safety\"[All Fields] OR \"safeties\"[All Fields]) AND (\"efficacies\"[All Fields] OR \"efficacious\"[All Fields] OR \"efficaciously\"[All Fields] OR \"efficaciousness\"[All Fields] OR \"efficacy\"[All Fields]) AND (\"selective serotonin reuptake inhibitors\"[Pharmacological Action] OR \"selective serotonin reuptake inhibitors\"[MeSH Terms] OR (\"selective\"[All Fields] AND \"serotonin\"[All Fields] AND \"reuptake\"[All Fields] AND \"inhibitors\"[All Fields]) OR \"selective serotonin reuptake inhibitors\"[All Fields] OR \"ssris\"[All Fields] OR \"ssri s\"[All Fields]) AND (\"improve\"[All Fields] OR \"improved\"[All Fields] OR \"improvement\"[All Fields] OR \"improvements\"[All Fields] OR \"improves\"[All Fields] OR \"improving\"[All Fields] OR \"improvment\"[All Fields]) AND \"Poststroke\"[All Fields] AND (\"recoveries\"[All Fields] OR \"recovery\"[All Fields]) AND (\"systematic review\"[Publication Type] OR \"systematic reviews as topic\"[MeSH Terms] OR \"systematic review\"[All Fields]) AND (\"meta analysis\"[Publication Type] OR \"meta analysis as topic\"[MeSH Terms] OR \"meta analysis\"[All Fields])', 'warninglist': {'phrasesignored': ['and', 'of', 'in', 'A'], 'quotedphrasesnotfound': [], 'outputmessages': []}}}\n",
      "Published: 2022-06-22\n",
      "Title: Safety and Efficacy of SSRIs in Improving Poststroke Recovery: A Systematic Review and Meta-Analysis.\n",
      "Copyright Information: \n",
      "Summary::\n",
      "Background Several studies investigated the role of selective serotonin reuptake inhibitors (SSRIs) in improving poststroke recovery; thus, we have decided to conduct this systematic review and meta-analysis to investigate the efficacy and safety of SSRIs in poststroke recovery. Methods and Results In this meta-analysis we searched the following databases: PubMed, Cochrane, Scopus, and Google Scholar. The studies were included if they were placebo-controlled trials in design and reported SSRIs' effects on poststroke depression, anxiety, disability, dependence, motor abilities, and cognitive functions. The quality of the included studies was assessed using the revised Cochrane risk-of-bias tool for randomized trials. The search yielded 44 articles that included 16 164 patients, and about half of the participants were treated with SSRIs. Our results showed that SSRIs had a significant effect on preventing depression (weighted mean difference [WMD], -7.05 [95% CI, -11.78 to -2.31]), treating depression according to the Hamilton Rating Scale for Depression score (WMD, -1.45 [95% CI, -2.77 to -0.14]), anxiety (relative risk, 0.23 [95% CI, 0.09-0.61]), dependence (WMD, 8.86 [95% CI, 1.23-16.48]), motor abilities according to National Institutes of Health Stroke Scale score (WMD, -0.79 [95% CI, -1.42 to -0.15]), and cognitive functions (WMD, 1.00 [95% CI, 0.12-1.89]). On the other hand, no significant effect of SSRIs on disability was observed. Additionally, we found that treating with SSRIs increased the risk of seizures (relative risk, 1.44 [95% CI, 1.13-1.83]), whereas there was no difference in the incidence of gastrointestinal symptoms or bleeding between SSRIs and a placebo. Conclusions Our study showed that SSRIs are effective in preventing and treating depression, and improving anxiety, motor function, \n"
     ]
    }
   ],
   "source": [
    "from langchain_community import tools\n",
    "\n",
    "a = tools.PubmedQueryRun().run('Safety and Efficacy of SSRIs in Improving Poststroke Recovery: A Systematic Review and Meta-Analysis')\n",
    "print(a)"
   ]
  },
  {
   "cell_type": "code",
   "execution_count": 3,
   "metadata": {},
   "outputs": [
    {
     "name": "stdout",
     "output_type": "stream",
     "text": [
      "Background Several studies investigated the role of selective serotonin reuptake inhibitors (SSRIs) in improving poststroke recovery; thus, we have decided to conduct this systematic review and meta-analysis to investigate the efficacy and safety of SSRIs in poststroke recovery. Methods and Results In this meta-analysis we searched the following databases: PubMed, Cochrane, Scopus, and Google Scholar. The studies were included if they were placebo-controlled trials in design and reported SSRIs' effects on poststroke depression, anxiety, disability, dependence, motor abilities, and cognitive functions. The quality of the included studies was assessed using the revised Cochrane risk-of-bias tool for randomized trials. The search yielded 44 articles that included 16 164 patients, and about half of the participants were treated with SSRIs. Our results showed that SSRIs had a significant effect on preventing depression (weighted mean difference [WMD], -7.05 [95% CI, -11.78 to -2.31]), treating depression according to the Hamilton Rating Scale for Depression score (WMD, -1.45 [95% CI, -2.77 to -0.14]), anxiety (relative risk, 0.23 [95% CI, 0.09-0.61]), dependence (WMD, 8.86 [95% CI, 1.23-16.48]), motor abilities according to National Institutes of Health Stroke Scale score (WMD, -0.79 [95% CI, -1.42 to -0.15]), and cognitive functions (WMD, 1.00 [95% CI, 0.12-1.89]). On the other hand, no significant effect of SSRIs on disability was observed. Additionally, we found that treating with SSRIs increased the risk of seizures (relative risk, 1.44 [95% CI, 1.13-1.83]), whereas there was no difference in the incidence of gastrointestinal symptoms or bleeding between SSRIs and a placebo. Conclusions Our study showed that SSRIs are effective in preventing and treating depression, and improving anxiety, motor function, cognitive function, and dependence in patients after stroke. These benefits were only reproducible with the citalopram subanalysis but not fluoxetine. Further well-conducted placebo-controlled trials are needed to investigate the safety and efficacy of citalopram among patients after stroke. Registration URL: www.crd.york.ac.uk/prospero/; Unique identifier: CRD42021285766.\n"
     ]
    }
   ],
   "source": [
    "from langchain_community.utilities.pubmed import PubMedAPIWrapper\n",
    "\n",
    "a = PubMedAPIWrapper().retrieve_article('35730636', '')\n",
    "print(a['Summary'])"
   ]
  }
 ],
 "metadata": {
  "kernelspec": {
   "display_name": "base",
   "language": "python",
   "name": "python3"
  },
  "language_info": {
   "codemirror_mode": {
    "name": "ipython",
    "version": 3
   },
   "file_extension": ".py",
   "mimetype": "text/x-python",
   "name": "python",
   "nbconvert_exporter": "python",
   "pygments_lexer": "ipython3",
   "version": "3.10.13"
  }
 },
 "nbformat": 4,
 "nbformat_minor": 2
}
